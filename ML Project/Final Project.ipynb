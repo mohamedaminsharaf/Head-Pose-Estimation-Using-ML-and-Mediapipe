{
  "cells": [
    {
      "cell_type": "code",
      "execution_count": 95,
      "metadata": {
        "id": "yP2t9H-Rb2uG"
      },
      "outputs": [],
      "source": [
        "#IF mediapipe not installed, uncomment these lines\n",
        "#%%capture\n",
        "#!pip install mediapipe\n"
      ]
    },
    {
      "cell_type": "code",
      "execution_count": null,
      "metadata": {},
      "outputs": [],
      "source": [
        "#Data Link\n",
        "#https://www.kaggle.com/datasets/kameo4189/aflw2000-300wlp?select=AFLW2000-3D"
      ]
    },
    {
      "cell_type": "code",
      "execution_count": 96,
      "metadata": {
        "id": "82h9t5E4tK8f"
      },
      "outputs": [],
      "source": [
        "import numpy as np\n",
        "import os,cv2,math,glob,random\n",
        "import scipy.io as sio\n",
        "from math import cos, sin\n",
        "from pathlib import Path\n",
        "import pandas as pd\n",
        "import mediapipe\n",
        "import warnings"
      ]
    },
    {
      "cell_type": "code",
      "execution_count": 97,
      "metadata": {
        "id": "R_UmUG6EtecT"
      },
      "outputs": [],
      "source": [
        "# Function to show pitch, yaw and roll\n",
        "def draw_axis(img, pitch,yaw,roll, tdx=None, tdy=None, size = 50):\n",
        "\n",
        "    yaw = -yaw\n",
        "    if tdx != None and tdy != None:\n",
        "        tdx = tdx\n",
        "        tdy = tdy\n",
        "    else:\n",
        "        height, width = img.shape[:2]\n",
        "        tdx = width / 2\n",
        "        tdy = height / 2\n",
        "\n",
        "    # X-Axis pointing to right. drawn in red\n",
        "    x1 = size * (cos(yaw) * cos(roll)) + tdx\n",
        "    y1 = size * (cos(pitch) * sin(roll) + cos(roll) * sin(pitch) * sin(yaw)) + tdy\n",
        "\n",
        "    # Y-Axis | drawn in green\n",
        "    #        v\n",
        "    x2 = size * (-cos(yaw) * sin(roll)) + tdx\n",
        "    y2 = size * (cos(pitch) * cos(roll) - sin(pitch) * sin(yaw) * sin(roll)) + tdy\n",
        "\n",
        "    # Z-Axis (out of the screen) drawn in blue\n",
        "    x3 = size * (sin(yaw)) + tdx\n",
        "    y3 = size * (-cos(yaw) * sin(pitch)) + tdy\n",
        "\n",
        "    cv2.line(img, (int(tdx), int(tdy)), (int(x1),int(y1)),(0,0,255),3)\n",
        "    cv2.line(img, (int(tdx), int(tdy)), (int(x2),int(y2)),(0,255,0),3)\n",
        "    cv2.line(img, (int(tdx), int(tdy)), (int(x3),int(y3)),(255,0,0),2)\n",
        "\n",
        "    return img"
      ]
    },
    {
      "cell_type": "code",
      "execution_count": 98,
      "metadata": {
        "colab": {
          "base_uri": "https://localhost:8080/"
        },
        "id": "5l61EIRz2aEM",
        "outputId": "7ea37e16-bb72-4a91-d0e8-d81ad6a92cdc"
      },
      "outputs": [
        {
          "data": {
            "text/plain": [
              "(2000, 2000)"
            ]
          },
          "execution_count": 98,
          "metadata": {},
          "output_type": "execute_result"
        }
      ],
      "source": [
        "#All Images\n",
        "all_images = glob.glob('D:\\ITI\\Machine Learning Project\\AFLW2000-3D\\AFLW2000\\*.jpg') \n",
        "#All Mat Files (Labels)\n",
        "all_mats = glob.glob('D:\\ITI\\Machine Learning Project\\AFLW2000-3D\\AFLW2000\\*.mat') # Labels\n",
        "len(all_images),len(all_mats)"
      ]
    },
    {
      "cell_type": "code",
      "execution_count": 99,
      "metadata": {
        "id": "J1AqgIa-tjD8"
      },
      "outputs": [],
      "source": [
        "# choosing random image\n",
        "faceModule = mediapipe.solutions.face_mesh\n",
        "x_all = []\n",
        "y_all = []\n",
        "noses = []\n",
        "poses = []\n",
        "\n",
        "# loading image and its correspinding mat file\n",
        "for image in all_images:\n",
        "    img = cv2.imread(image)\n",
        "    with faceModule.FaceMesh(static_image_mode=True) as faces:\n",
        "          results = faces.process(cv2.cvtColor(img, cv2.COLOR_BGR2RGB))\n",
        "          if results.multi_face_landmarks != None:\n",
        "            mat_data = sio.loadmat(image[:-3]+'mat')\n",
        "            poses.append(mat_data['Pose_Para'][0][:3])\n",
        "            x = []\n",
        "            y = []\n",
        "            nose = []\n",
        "            # looping over the faces in the image\n",
        "            for face in results.multi_face_landmarks:\n",
        "                for idx, landmark in enumerate(face.landmark):\n",
        "                    x.append(landmark.x)\n",
        "                    y.append(landmark.y)\n",
        "                    # getting the noses x and y coordinates\n",
        "                    if idx == 1:\n",
        "                      nose.append(landmark.x)\n",
        "                      nose.append(landmark.y)\n",
        "            #all x values\n",
        "            x_all.append(x)\n",
        "            #all y values\n",
        "            y_all.append(y)\n",
        "            # all nose value\n",
        "            noses.append(nose)\n",
        "#centering the x and y values around the nose\n",
        "x_center = np.array(x_all) - np.array(x_all)[:,1].reshape(-1,1)\n",
        "y_center = np.array(y_all) - np.array(y_all)[:,1].reshape(-1,1)\n",
        "features_data = np.hstack([x_center,y_center])"
      ]
    },
    {
      "cell_type": "code",
      "execution_count": 100,
      "metadata": {
        "id": "uCd4ZoxpGumE"
      },
      "outputs": [],
      "source": [
        "from sklearn.multioutput import MultiOutputRegressor\n",
        "from sklearn.linear_model import Lasso,Ridge\n",
        "from sklearn.svm import SVR\n",
        "\n",
        "from sklearn.model_selection import train_test_split\n",
        "from sklearn.metrics import mean_squared_error, r2_score, mean_absolute_error, explained_variance_score"
      ]
    },
    {
      "cell_type": "code",
      "execution_count": 101,
      "metadata": {
        "id": "c0nC1OV4G8Hi"
      },
      "outputs": [],
      "source": [
        "#splitting the data\n",
        "X_train, X_test, y_train, y_test = train_test_split(features_data , np.array(poses) ,test_size= 0.2, random_state= 42)"
      ]
    },
    {
      "cell_type": "code",
      "execution_count": 102,
      "metadata": {
        "colab": {
          "base_uri": "https://localhost:8080/"
        },
        "id": "cXY210I7Fqd-",
        "outputId": "89ceaf6c-9360-4d60-bf5d-7f67da211d90"
      },
      "outputs": [
        {
          "name": "stdout",
          "output_type": "stream",
          "text": [
            "validation_mse_svr:  0.015434564981853352\n",
            "validation_mae_svr:  0.06778964861293812\n"
          ]
        }
      ],
      "source": [
        "#Testing MultiOutputRegressor with SVR Estimator\n",
        "svr = SVR()\n",
        "mor = MultiOutputRegressor(svr)\n",
        "mor.fit(X_train,y_train)\n",
        "print('validation_mse_svr: ', mean_squared_error(y_test, mor.predict(X_test)))\n",
        "print('validation_mae_svr: ', mean_absolute_error(y_test, mor.predict(X_test)))"
      ]
    },
    {
      "cell_type": "code",
      "execution_count": 103,
      "metadata": {
        "colab": {
          "base_uri": "https://localhost:8080/"
        },
        "id": "l_MLxQLwQlSm",
        "outputId": "7b679ca6-b6d6-404c-fc41-783ac9eddb67"
      },
      "outputs": [
        {
          "name": "stdout",
          "output_type": "stream",
          "text": [
            "validation_mse:  0.0289758680921532\n",
            "validation_mae:  0.1145048376412614\n"
          ]
        }
      ],
      "source": [
        "#Testing MultiOutputRegressor with Ridge Estimator\n",
        "rd = Ridge()\n",
        "mor_ridge = MultiOutputRegressor(rd)\n",
        "mor_ridge.fit(X_train,y_train)\n",
        "print('validation_mse: ', mean_squared_error(y_test, mor_ridge.predict(X_test)))\n",
        "print('validation_mae: ', mean_absolute_error(y_test, mor_ridge.predict(X_test)))"
      ]
    },
    {
      "cell_type": "code",
      "execution_count": 104,
      "metadata": {
        "id": "7h7YPPpjm7VK"
      },
      "outputs": [],
      "source": [
        "\n",
        "import pickle\n",
        "import mediapipe as mp\n",
        "# Save the trained model as a pickle string.\n",
        "saved_model = pickle.dumps(mor)\n",
        "  \n",
        "# Load the pickled model\n",
        "mor_from_pickle = pickle.loads(saved_model)"
      ]
    },
    {
      "cell_type": "code",
      "execution_count": 105,
      "metadata": {
        "id": "qKx9T6GcbWMY"
      },
      "outputs": [],
      "source": [
        "#Extracting all xs and ys for image to be predicted\n",
        "def extract_features(img):\n",
        "    x_all = []\n",
        "    y_all = []\n",
        "    noses = []\n",
        "    faceModule = mediapipe.solutions.face_mesh\n",
        "    with faceModule.FaceMesh(static_image_mode=True) as faces:\n",
        "      results = faces.process(cv2.cvtColor(img, cv2.COLOR_BGR2RGB))\n",
        "      xy = []\n",
        "      nose = []\n",
        "      # looping over the faces in the image\n",
        "      for face in results.multi_face_landmarks:\n",
        "          x = []\n",
        "          y = []\n",
        "          for idx, landmark in enumerate(face.landmark):\n",
        "                  x.append(landmark.x)\n",
        "                  y.append(landmark.y)\n",
        "                  if idx == 1:\n",
        "                    nose.append(landmark.x)\n",
        "                    nose.append(landmark.y)\n",
        "      x_all.append(x)\n",
        "      y_all.append(y)\n",
        "      noses.append(nose)\n",
        "    return x_all,y_all,noses    "
      ]
    },
    {
      "cell_type": "code",
      "execution_count": 106,
      "metadata": {
        "id": "tWbpqFVC-PZh"
      },
      "outputs": [],
      "source": [
        "#Funtion to return predicted image with pitch, yaw and roll\n",
        "def predict_image(image, show = False):\n",
        "    x, y , noses = extract_features(image)\n",
        "    x_center = np.array(x) - np.array(x)[:,1].reshape(-1,1)\n",
        "    y_center = np.array(y) - np.array(y)[:,1].reshape(-1,1)\n",
        "    features_data = np.hstack([x_center,y_center])\n",
        "    prediction = mor_from_pickle.predict(features_data)\n",
        "    draw_axis(image,prediction[0][0],prediction[0][1],prediction[0][2], noses[0][0]*image.shape[1], noses[0][1]*image.shape[0])\n",
        "    if show:\n",
        "        cv2.imshow(\"Test\",image)\n",
        "        cv2.waitKey(10000)\n",
        "        cv2.destroyAllWindows()\n",
        "    return image"
      ]
    },
    {
      "cell_type": "code",
      "execution_count": 107,
      "metadata": {
        "colab": {
          "base_uri": "https://localhost:8080/",
          "height": 467
        },
        "id": "Lofd97hugY-Y",
        "outputId": "231abecd-1988-49b2-be37-0b99ca5b1fcd"
      },
      "outputs": [],
      "source": [
        "#Predicting AFLW200 Image for testing\n",
        "img = cv2.imread('D:\\ITI\\Machine Learning Project\\AFLW2000-3D\\AFLW2000\\image00077.jpg')\n",
        "predicted = predict_image(img, True)"
      ]
    },
    {
      "cell_type": "code",
      "execution_count": 108,
      "metadata": {
        "id": "3qF9YGS1WBjf"
      },
      "outputs": [
        {
          "name": "stdout",
          "output_type": "stream",
          "text": [
            ".........................................................................................................................."
          ]
        }
      ],
      "source": [
        "#Video Prdiction\n",
        "cap = cv2.VideoCapture('D:\\ITI\\Machine Learning Project\\Billie.mp4')\n",
        "width = int(cap.get(cv2.CAP_PROP_FRAME_WIDTH))\n",
        "height = int(cap.get(cv2.CAP_PROP_FRAME_HEIGHT))\n",
        "fourcc = cv2.VideoWriter_fourcc('m', 'p', '4', 'v')\n",
        "out = cv2.VideoWriter(\"new video.mp4\", fourcc, 30.0, (width, height))\n",
        "cv2.namedWindow(\"new Video\", cv2.WINDOW_NORMAL)\n",
        "while cap.isOpened():\n",
        "    print('.', end='')\n",
        "    ret, frame = cap.read()\n",
        "    if not ret:\n",
        "        break\n",
        "    frame = predict_image(frame)\n",
        "    out.write(frame)\n",
        "\n",
        "cap.release()\n",
        "out.release()\n",
        "del out\n",
        "cv2.destroyAllWindows() "
      ]
    },
    {
      "cell_type": "code",
      "execution_count": null,
      "metadata": {},
      "outputs": [],
      "source": []
    }
  ],
  "metadata": {
    "colab": {
      "provenance": []
    },
    "kernelspec": {
      "display_name": "py310",
      "language": "python",
      "name": "python3"
    },
    "language_info": {
      "codemirror_mode": {
        "name": "ipython",
        "version": 3
      },
      "file_extension": ".py",
      "mimetype": "text/x-python",
      "name": "python",
      "nbconvert_exporter": "python",
      "pygments_lexer": "ipython3",
      "version": "3.10.9"
    },
    "vscode": {
      "interpreter": {
        "hash": "30f3e8159960abfd44d550dfa9a9de7c28572644280f60d7d882db39e9818f6b"
      }
    }
  },
  "nbformat": 4,
  "nbformat_minor": 0
}
